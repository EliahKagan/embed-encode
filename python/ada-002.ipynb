{
 "cells": [
  {
   "attachments": {},
   "cell_type": "markdown",
   "metadata": {},
   "source": [
    "# Base64-encoded embedding from `text-embedding-ada-002`\n",
    "\n",
    "SPDX-License-Identifier: 0BSD\n",
    "\n",
    "This examines a second-generation Ada embedding in detail."
   ]
  },
  {
   "cell_type": "code",
   "execution_count": 1,
   "metadata": {},
   "outputs": [],
   "source": [
    "import collections\n",
    "import base64\n",
    "import json\n",
    "import re\n",
    "from typing import Iterable\n",
    "\n",
    "from cheap_repr import cheap_repr\n",
    "import numpy as np\n",
    "import openai\n",
    "from openai.embeddings_utils import get_embedding\n",
    "import requests\n",
    "import tabulate\n",
    "\n",
    "import keys\n",
    "import parsing"
   ]
  },
  {
   "cell_type": "code",
   "execution_count": 2,
   "metadata": {},
   "outputs": [],
   "source": [
    "np.set_printoptions(precision=10)"
   ]
  },
  {
   "cell_type": "code",
   "execution_count": 3,
   "metadata": {},
   "outputs": [],
   "source": [
    "api_key = openai.api_key = keys.get_api_key()"
   ]
  },
  {
   "attachments": {},
   "cell_type": "markdown",
   "metadata": {},
   "source": [
    "## 1. OpenAI Python library"
   ]
  },
  {
   "attachments": {},
   "cell_type": "markdown",
   "metadata": {},
   "source": [
    "### 1A. `openai.embeddings_utils.get_embedding`\n",
    "\n",
    "This is a higher-level interface to `openai.Embedding.create` (below)."
   ]
  },
  {
   "cell_type": "code",
   "execution_count": 4,
   "metadata": {},
   "outputs": [
    {
     "data": {
      "text/plain": [
       "'[0.0023063174448907375, -0.009358600713312626, 0.01578390970826149, ..., -0.015301376581192017, -0.01935211382806301, -0.002817421453073621]'"
      ]
     },
     "execution_count": 4,
     "metadata": {},
     "output_type": "execute_result"
    }
   ],
   "source": [
    "lib_utils_embedding = get_embedding(\n",
    "    text='The food was delicious and the waiter...',\n",
    "    engine='text-embedding-ada-002',\n",
    ")\n",
    "cheap_repr(lib_utils_embedding)"
   ]
  },
  {
   "attachments": {},
   "cell_type": "markdown",
   "metadata": {},
   "source": [
    "Let's save those results, for comparison to Java:"
   ]
  },
  {
   "cell_type": "code",
   "execution_count": 5,
   "metadata": {},
   "outputs": [],
   "source": [
    "with open('python-embedding.json', mode='w', encoding='utf-8') as file:\n",
    "    json.dump(lib_utils_embedding, file, indent=4)"
   ]
  },
  {
   "attachments": {},
   "cell_type": "markdown",
   "metadata": {},
   "source": [
    "### 1B. `openai.Embedding.create`"
   ]
  },
  {
   "cell_type": "code",
   "execution_count": 6,
   "metadata": {},
   "outputs": [
    {
     "data": {
      "text/plain": [
       "\"{'object': 'list', 'data': [{'object': 'embedding', 'index': 0, 'embedding': [...]}], 'model': 'text-embedding-ada-002-v2', 'usage': {'prompt_tokens': 8, 'total_tokens': 8}}\""
      ]
     },
     "execution_count": 6,
     "metadata": {},
     "output_type": "execute_result"
    }
   ],
   "source": [
    "lib_response = openai.Embedding.create(\n",
    "    model=\"text-embedding-ada-002\",\n",
    "    input=\"The food was delicious and the waiter...\",\n",
    ")\n",
    "cheap_repr(lib_response)"
   ]
  },
  {
   "cell_type": "code",
   "execution_count": 7,
   "metadata": {},
   "outputs": [
    {
     "data": {
      "text/plain": [
       "'[0.0023063174448907375, -0.009358600713312626, 0.01578390970826149, ..., -0.015301376581192017, -0.01935211382806301, -0.002817421453073621]'"
      ]
     },
     "execution_count": 7,
     "metadata": {},
     "output_type": "execute_result"
    }
   ],
   "source": [
    "lib_embedding = lib_response.data[0].embedding\n",
    "cheap_repr(lib_embedding)"
   ]
  },
  {
   "attachments": {},
   "cell_type": "markdown",
   "metadata": {},
   "source": [
    "Except on text where `get_embedding` does the extra work of converting newlines\n",
    "to spaces, or **when nondeterminism in the model gives different results for\n",
    "equivalent queries**, the results with `openai.embeddings_utils.get_embedding`\n",
    "and `openai.Embedding.create` will agree:"
   ]
  },
  {
   "cell_type": "code",
   "execution_count": 8,
   "metadata": {},
   "outputs": [
    {
     "data": {
      "text/plain": [
       "True"
      ]
     },
     "execution_count": 8,
     "metadata": {},
     "output_type": "execute_result"
    }
   ],
   "source": [
    "lib_utils_embedding == lib_embedding"
   ]
  },
  {
   "attachments": {},
   "cell_type": "markdown",
   "metadata": {},
   "source": [
    "## 2. POST requests to the OpenAI API endpoint"
   ]
  },
  {
   "attachments": {},
   "cell_type": "markdown",
   "metadata": {},
   "source": [
    "### 2A. No `encoding_format` (normal way)"
   ]
  },
  {
   "cell_type": "code",
   "execution_count": 9,
   "metadata": {},
   "outputs": [
    {
     "data": {
      "text/plain": [
       "array([ 0.0023063174, -0.009358601 ,  0.01578391  , ..., -0.015301377 ,\n",
       "       -0.019352114 , -0.0028174215], dtype=float32)"
      ]
     },
     "execution_count": 9,
     "metadata": {},
     "output_type": "execute_result"
    }
   ],
   "source": [
    "default_response = requests.post(\n",
    "    url='https://api.openai.com/v1/embeddings',\n",
    "    headers={\n",
    "        'Content-Type': 'application/json',\n",
    "        'Authorization': f'Bearer {api_key}',\n",
    "    },\n",
    "    json={\n",
    "        'input': 'The food was delicious and the waiter...',\n",
    "        'model': 'text-embedding-ada-002',\n",
    "    }\n",
    ")\n",
    "default_response.raise_for_status()\n",
    "default_encoded = default_response.json()['data'][0]['embedding']\n",
    "default_embedding = np.array(default_encoded, dtype=np.float32)\n",
    "default_embedding"
   ]
  },
  {
   "attachments": {},
   "cell_type": "markdown",
   "metadata": {},
   "source": [
    "#### Do the representations always have enough digits for float32?\n",
    "\n",
    "Since we are working with floating point, when we count digits to determine\n",
    "precision, we start with the leftmost *nonzero* digit. I will call such digits\n",
    "*mantissa digits*. A small minority of float32 values require 9 base-10\n",
    "mantissa digits to represent.\n",
    "\n",
    "Since decimal representations from the API endpoint omit *trailing* digits if\n",
    "not required for round-tripping, we should expect most values to show fewer\n",
    "than 9 mantissa digits. A glance at the output shows most of the numbers have\n",
    "8, as expected. But it is not clear, at a glance, that 9 digits are ever shown,\n",
    "since that is rarely needed. This shows that they are:"
   ]
  },
  {
   "cell_type": "code",
   "execution_count": 10,
   "metadata": {},
   "outputs": [],
   "source": [
    "coordinate_strings = parsing.extract_coordinate_strings(default_response.text)\n",
    "mantissa_length_groups = parsing.group_by_mantissa_length(coordinate_strings)"
   ]
  },
  {
   "cell_type": "code",
   "execution_count": 11,
   "metadata": {},
   "outputs": [
    {
     "data": {
      "text/html": [
       "<table>\n",
       "<thead>\n",
       "<tr><th style=\"text-align: right;\">  digits</th><th style=\"text-align: right;\">  count</th></tr>\n",
       "</thead>\n",
       "<tbody>\n",
       "<tr><td style=\"text-align: right;\">       5</td><td style=\"text-align: right;\">      5</td></tr>\n",
       "<tr><td style=\"text-align: right;\">       6</td><td style=\"text-align: right;\">     55</td></tr>\n",
       "<tr><td style=\"text-align: right;\">       7</td><td style=\"text-align: right;\">    417</td></tr>\n",
       "<tr><td style=\"text-align: right;\">       8</td><td style=\"text-align: right;\">   1041</td></tr>\n",
       "<tr><td style=\"text-align: right;\">       9</td><td style=\"text-align: right;\">     18</td></tr>\n",
       "</tbody>\n",
       "</table>"
      ],
      "text/plain": [
       "'<table>\\n<thead>\\n<tr><th style=\"text-align: right;\">  digits</th><th style=\"text-align: right;\">  count</th></tr>\\n</thead>\\n<tbody>\\n<tr><td style=\"text-align: right;\">       5</td><td style=\"text-align: right;\">      5</td></tr>\\n<tr><td style=\"text-align: right;\">       6</td><td style=\"text-align: right;\">     55</td></tr>\\n<tr><td style=\"text-align: right;\">       7</td><td style=\"text-align: right;\">    417</td></tr>\\n<tr><td style=\"text-align: right;\">       8</td><td style=\"text-align: right;\">   1041</td></tr>\\n<tr><td style=\"text-align: right;\">       9</td><td style=\"text-align: right;\">     18</td></tr>\\n</tbody>\\n</table>'"
      ]
     },
     "execution_count": 11,
     "metadata": {},
     "output_type": "execute_result"
    }
   ],
   "source": [
    "mantissa_length_table = [\n",
    "    (length, len(group))\n",
    "    for length, group in sorted(mantissa_length_groups.items())\n",
    "]\n",
    "tabulate.tabulate(\n",
    "    mantissa_length_table,\n",
    "    headers=('digits', 'count'),\n",
    "    tablefmt='html',\n",
    ")"
   ]
  },
  {
   "attachments": {},
   "cell_type": "markdown",
   "metadata": {},
   "source": [
    "A small fraction of the coordinates require 9 digits:"
   ]
  },
  {
   "cell_type": "code",
   "execution_count": 12,
   "metadata": {},
   "outputs": [
    {
     "name": "stdout",
     "output_type": "stream",
     "text": [
      "1.17%\n"
     ]
    }
   ],
   "source": [
    "ratio_that_need_9 = len(mantissa_length_groups[9]) / len(coordinate_strings)\n",
    "print(f'{ratio_that_need_9:.2%}')"
   ]
  },
  {
   "attachments": {},
   "cell_type": "markdown",
   "metadata": {},
   "source": [
    "Those coordinates are:"
   ]
  },
  {
   "cell_type": "code",
   "execution_count": 13,
   "metadata": {},
   "outputs": [
    {
     "data": {
      "text/plain": [
       "['0.0117331715',\n",
       " '-0.0131299775',\n",
       " '0.0107935015',\n",
       " '0.0134855285',\n",
       " '0.0146537665',\n",
       " '-0.0128379185',\n",
       " '-0.0134220375',\n",
       " '0.0134855285',\n",
       " '-0.0140696475',\n",
       " '-0.0114093665',\n",
       " '-0.0152378855',\n",
       " '0.0105966795',\n",
       " '-0.0146537665',\n",
       " '-0.0137140965',\n",
       " '-0.0152378855',\n",
       " '-0.0102728745',\n",
       " '0.0154664535',\n",
       " '0.0110855615']"
      ]
     },
     "execution_count": 13,
     "metadata": {},
     "output_type": "execute_result"
    }
   ],
   "source": [
    "mantissa_length_groups[9]"
   ]
  },
  {
   "attachments": {},
   "cell_type": "markdown",
   "metadata": {},
   "source": [
    "### 2B. Passing `base64` as `encoding_format`"
   ]
  },
  {
   "cell_type": "code",
   "execution_count": 14,
   "metadata": {},
   "outputs": [
    {
     "data": {
      "text/plain": [
       "{'object': 'list',\n",
       " 'data': [{'object': 'embedding',\n",
       "   'index': 0,\n",
       "   'embedding': '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'}],\n",
       " 'model': 'text-embedding-ada-002-v2',\n",
       " 'usage': {'prompt_tokens': 8, 'total_tokens': 8}}"
      ]
     },
     "execution_count": 14,
     "metadata": {},
     "output_type": "execute_result"
    }
   ],
   "source": [
    "base64_response = requests.post(\n",
    "    url='https://api.openai.com/v1/embeddings',\n",
    "    headers={\n",
    "        'Content-Type': 'application/json',\n",
    "        'Authorization': f'Bearer {api_key}',\n",
    "    },\n",
    "    json={\n",
    "        'input': 'The food was delicious and the waiter...',\n",
    "        'model': 'text-embedding-ada-002',\n",
    "        'encoding_format': 'base64',\n",
    "    }\n",
    ")\n",
    "base64_response.raise_for_status()\n",
    "base64_response.json()"
   ]
  },
  {
   "cell_type": "code",
   "execution_count": 15,
   "metadata": {},
   "outputs": [
    {
     "data": {
      "text/plain": [
       "'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'"
      ]
     },
     "execution_count": 15,
     "metadata": {},
     "output_type": "execute_result"
    }
   ],
   "source": [
    "base64_encoded = base64_response.json()['data'][0]['embedding']\n",
    "base64_encoded"
   ]
  },
  {
   "attachments": {},
   "cell_type": "markdown",
   "metadata": {},
   "source": [
    "#### Decoding base64 and comparing\n",
    "\n",
    "Now I'll decode it using the same technique as in [`openai.api_resources.embedding.Embedding.create`](https://github.com/openai/openai-python/blob/040f72efc461d747f04c32126ac4285d0f63b993/openai/api_resources/embedding.py#L15):"
   ]
  },
  {
   "cell_type": "code",
   "execution_count": 16,
   "metadata": {},
   "outputs": [
    {
     "data": {
      "text/plain": [
       "array([ 0.0023063174, -0.009358601 ,  0.01578391  , ..., -0.015301377 ,\n",
       "       -0.019352114 , -0.0028174215], dtype=float32)"
      ]
     },
     "execution_count": 16,
     "metadata": {},
     "output_type": "execute_result"
    }
   ],
   "source": [
    "buffer = base64.b64decode(base64_encoded)\n",
    "base64_embedding = np.frombuffer(buffer, dtype=np.float32)\n",
    "base64_embedding"
   ]
  },
  {
   "cell_type": "code",
   "execution_count": 17,
   "metadata": {},
   "outputs": [
    {
     "data": {
      "text/plain": [
       "True"
      ]
     },
     "execution_count": 17,
     "metadata": {},
     "output_type": "execute_result"
    }
   ],
   "source": [
    "(default_embedding == base64_embedding).all()"
   ]
  }
 ],
 "metadata": {
  "kernelspec": {
   "display_name": "python-eE5z94gO",
   "language": "python",
   "name": "python3"
  },
  "language_info": {
   "codemirror_mode": {
    "name": "ipython",
    "version": 3
   },
   "file_extension": ".py",
   "mimetype": "text/x-python",
   "name": "python",
   "nbconvert_exporter": "python",
   "pygments_lexer": "ipython3",
   "version": "3.11.4"
  },
  "orig_nbformat": 4,
  "vscode": {
   "interpreter": {
    "hash": "5b2a58d16238bcb4eedef241c99ff435fc9dedd495054dcbaabbe17632e3767b"
   }
  }
 },
 "nbformat": 4,
 "nbformat_minor": 2
}
