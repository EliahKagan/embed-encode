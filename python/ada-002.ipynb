{
 "cells": [
  {
   "attachments": {},
   "cell_type": "markdown",
   "metadata": {},
   "source": [
    "# Base64-encoded embedding from `text-embedding-ada-002`\n",
    "\n",
    "SPDX-License-Identifier: 0BSD\n",
    "\n",
    "This examines a second-generation Ada embedding in detail."
   ]
  },
  {
   "cell_type": "code",
   "execution_count": 1,
   "metadata": {},
   "outputs": [],
   "source": [
    "import collections\n",
    "import base64\n",
    "import json\n",
    "import re\n",
    "from typing import Iterable\n",
    "\n",
    "from cheap_repr import cheap_repr\n",
    "import numpy as np\n",
    "import openai\n",
    "from openai.embeddings_utils import get_embedding\n",
    "import requests\n",
    "import tabulate\n",
    "\n",
    "import keys\n",
    "import parsing"
   ]
  },
  {
   "cell_type": "code",
   "execution_count": 2,
   "metadata": {},
   "outputs": [],
   "source": [
    "np.set_printoptions(precision=10)"
   ]
  },
  {
   "cell_type": "code",
   "execution_count": 3,
   "metadata": {},
   "outputs": [],
   "source": [
    "api_key = openai.api_key = keys.get_api_key()"
   ]
  },
  {
   "attachments": {},
   "cell_type": "markdown",
   "metadata": {},
   "source": [
    "## 1. OpenAI Python library"
   ]
  },
  {
   "attachments": {},
   "cell_type": "markdown",
   "metadata": {},
   "source": [
    "### 1A. `openai.embeddings_utils.get_embedding`\n",
    "\n",
    "This is a higher-level interface to `openai.Embedding.create` (below)."
   ]
  },
  {
   "cell_type": "code",
   "execution_count": 4,
   "metadata": {},
   "outputs": [
    {
     "data": {
      "text/plain": [
       "'[0.002306425478309393, -0.009327292442321777, 0.015797346830368042, ..., -0.015327490866184235, -0.01937841810286045, -0.0028842221945524216]'"
      ]
     },
     "execution_count": 4,
     "metadata": {},
     "output_type": "execute_result"
    }
   ],
   "source": [
    "lib_utils_embedding = get_embedding(\n",
    "    text='The food was delicious and the waiter...',\n",
    "    engine='text-embedding-ada-002',\n",
    ")\n",
    "cheap_repr(lib_utils_embedding)"
   ]
  },
  {
   "attachments": {},
   "cell_type": "markdown",
   "metadata": {},
   "source": [
    "Let's save those results, for comparison to Java:"
   ]
  },
  {
   "cell_type": "code",
   "execution_count": 5,
   "metadata": {},
   "outputs": [],
   "source": [
    "with open('python-embedding.json', mode='w', encoding='utf-8') as file:\n",
    "    json.dump(lib_utils_embedding, file, indent=4)"
   ]
  },
  {
   "attachments": {},
   "cell_type": "markdown",
   "metadata": {},
   "source": [
    "### 1B. `openai.Embedding.create`"
   ]
  },
  {
   "cell_type": "code",
   "execution_count": 6,
   "metadata": {},
   "outputs": [
    {
     "data": {
      "text/plain": [
       "\"{'object': 'list', 'data': [{'object': 'embedding', 'index': 0, 'embedding': [...]}], 'model': 'text-embedding-ada-002-v2', 'usage': {'prompt_tokens': 8, 'total_tokens': 8}}\""
      ]
     },
     "execution_count": 6,
     "metadata": {},
     "output_type": "execute_result"
    }
   ],
   "source": [
    "lib_response = openai.Embedding.create(\n",
    "    model=\"text-embedding-ada-002\",\n",
    "    input=\"The food was delicious and the waiter...\",\n",
    ")\n",
    "cheap_repr(lib_response)"
   ]
  },
  {
   "cell_type": "code",
   "execution_count": 7,
   "metadata": {},
   "outputs": [
    {
     "data": {
      "text/plain": [
       "'[0.002306425478309393, -0.009327292442321777, 0.015797346830368042, ..., -0.015327490866184235, -0.01937841810286045, -0.0028842221945524216]'"
      ]
     },
     "execution_count": 7,
     "metadata": {},
     "output_type": "execute_result"
    }
   ],
   "source": [
    "lib_embedding = lib_response.data[0].embedding\n",
    "cheap_repr(lib_embedding)"
   ]
  },
  {
   "attachments": {},
   "cell_type": "markdown",
   "metadata": {},
   "source": [
    "Except on text where `get_embedding` does the extra work of converting newlines\n",
    "to spaces, or **when nondeterminism in the model gives different results for\n",
    "equivalent queries**, the results with `openai.embeddings_utils.get_embedding`\n",
    "and `openai.Embedding.create` will agree:"
   ]
  },
  {
   "cell_type": "code",
   "execution_count": 8,
   "metadata": {},
   "outputs": [
    {
     "data": {
      "text/plain": [
       "True"
      ]
     },
     "execution_count": 8,
     "metadata": {},
     "output_type": "execute_result"
    }
   ],
   "source": [
    "lib_utils_embedding == lib_embedding"
   ]
  },
  {
   "attachments": {},
   "cell_type": "markdown",
   "metadata": {},
   "source": [
    "## 2. POST requests to the OpenAI API endpoint"
   ]
  },
  {
   "attachments": {},
   "cell_type": "markdown",
   "metadata": {},
   "source": [
    "### 2A. No `encoding_format` (normal way)"
   ]
  },
  {
   "cell_type": "code",
   "execution_count": 9,
   "metadata": {},
   "outputs": [
    {
     "data": {
      "text/plain": [
       "array([ 0.0023064255, -0.009327292 ,  0.015797347 , ..., -0.015327491 ,\n",
       "       -0.019378418 , -0.0028842222], dtype=float32)"
      ]
     },
     "execution_count": 9,
     "metadata": {},
     "output_type": "execute_result"
    }
   ],
   "source": [
    "default_response = requests.post(\n",
    "    url='https://api.openai.com/v1/embeddings',\n",
    "    headers={\n",
    "        'Content-Type': 'application/json',\n",
    "        'Authorization': f'Bearer {api_key}',\n",
    "    },\n",
    "    json={\n",
    "        'input': 'The food was delicious and the waiter...',\n",
    "        'model': 'text-embedding-ada-002',\n",
    "    }\n",
    ")\n",
    "default_response.raise_for_status()\n",
    "default_encoded = default_response.json()['data'][0]['embedding']\n",
    "default_embedding = np.array(default_encoded, dtype=np.float32)\n",
    "default_embedding"
   ]
  },
  {
   "attachments": {},
   "cell_type": "markdown",
   "metadata": {},
   "source": [
    "#### Do the representations always have enough digits for float32?\n",
    "\n",
    "Since we are working with floating point, when we count digits to determine\n",
    "precision, we start with the leftmost *nonzero* digit. I will call such digits\n",
    "*mantissa digits*. A small minority of float32 values require 9 base-10\n",
    "mantissa digits to represent.\n",
    "\n",
    "Since decimal representations from the API endpoint omit *trailing* digits if\n",
    "not required for round-tripping, we should expect most values to show fewer\n",
    "than 9 mantissa digits. A glance at the output shows most of the numbers have\n",
    "8, as expected. But it is not clear, at a glance, that 9 digits are ever shown,\n",
    "since that is rarely needed. This shows that they are:"
   ]
  },
  {
   "cell_type": "code",
   "execution_count": 10,
   "metadata": {},
   "outputs": [],
   "source": [
    "coordinate_strings = parsing.extract_coordinate_strings(default_response.text)\n",
    "mantissa_length_groups = parsing.group_by_mantissa_length(coordinate_strings)"
   ]
  },
  {
   "cell_type": "code",
   "execution_count": 11,
   "metadata": {},
   "outputs": [
    {
     "data": {
      "text/html": [
       "<table>\n",
       "<thead>\n",
       "<tr><th style=\"text-align: right;\">  digits</th><th style=\"text-align: right;\">  count</th></tr>\n",
       "</thead>\n",
       "<tbody>\n",
       "<tr><td style=\"text-align: right;\">       5</td><td style=\"text-align: right;\">      6</td></tr>\n",
       "<tr><td style=\"text-align: right;\">       6</td><td style=\"text-align: right;\">     50</td></tr>\n",
       "<tr><td style=\"text-align: right;\">       7</td><td style=\"text-align: right;\">    392</td></tr>\n",
       "<tr><td style=\"text-align: right;\">       8</td><td style=\"text-align: right;\">   1068</td></tr>\n",
       "<tr><td style=\"text-align: right;\">       9</td><td style=\"text-align: right;\">     20</td></tr>\n",
       "</tbody>\n",
       "</table>"
      ],
      "text/plain": [
       "'<table>\\n<thead>\\n<tr><th style=\"text-align: right;\">  digits</th><th style=\"text-align: right;\">  count</th></tr>\\n</thead>\\n<tbody>\\n<tr><td style=\"text-align: right;\">       5</td><td style=\"text-align: right;\">      6</td></tr>\\n<tr><td style=\"text-align: right;\">       6</td><td style=\"text-align: right;\">     50</td></tr>\\n<tr><td style=\"text-align: right;\">       7</td><td style=\"text-align: right;\">    392</td></tr>\\n<tr><td style=\"text-align: right;\">       8</td><td style=\"text-align: right;\">   1068</td></tr>\\n<tr><td style=\"text-align: right;\">       9</td><td style=\"text-align: right;\">     20</td></tr>\\n</tbody>\\n</table>'"
      ]
     },
     "execution_count": 11,
     "metadata": {},
     "output_type": "execute_result"
    }
   ],
   "source": [
    "mantissa_length_table = [\n",
    "    (length, len(group))\n",
    "    for length, group in sorted(mantissa_length_groups.items())\n",
    "]\n",
    "tabulate.tabulate(\n",
    "    mantissa_length_table,\n",
    "    headers=('digits', 'count'),\n",
    "    tablefmt='html',\n",
    ")"
   ]
  },
  {
   "attachments": {},
   "cell_type": "markdown",
   "metadata": {},
   "source": [
    "A small fraction of the coordinates require 9 digits:"
   ]
  },
  {
   "cell_type": "code",
   "execution_count": 12,
   "metadata": {},
   "outputs": [
    {
     "name": "stdout",
     "output_type": "stream",
     "text": [
      "1.30%\n"
     ]
    }
   ],
   "source": [
    "ratio_that_need_9 = len(mantissa_length_groups[9]) / len(coordinate_strings)\n",
    "print(f'{ratio_that_need_9:.2%}')"
   ]
  },
  {
   "attachments": {},
   "cell_type": "markdown",
   "metadata": {},
   "source": [
    "Those coordinates are:"
   ]
  },
  {
   "cell_type": "code",
   "execution_count": 13,
   "metadata": {},
   "outputs": [
    {
     "data": {
      "text/plain": [
       "['-0.0143750785',\n",
       " '0.0149592245',\n",
       " '0.0138798235',\n",
       " '-0.0138798235',\n",
       " '0.0111368755',\n",
       " '-0.0110479845',\n",
       " '-0.0141718965',\n",
       " '-0.0144639695',\n",
       " '-0.0128004225',\n",
       " '0.0132956775',\n",
       " '0.000117464195',\n",
       " '-0.107686095',\n",
       " '0.0127115315',\n",
       " '-0.0101146195',\n",
       " '-0.0109019475',\n",
       " '-0.0144639695',\n",
       " '0.0110479845',\n",
       " '-0.0117781665',\n",
       " '0.0143750785',\n",
       " '0.0104638375']"
      ]
     },
     "execution_count": 13,
     "metadata": {},
     "output_type": "execute_result"
    }
   ],
   "source": [
    "mantissa_length_groups[9]"
   ]
  },
  {
   "attachments": {},
   "cell_type": "markdown",
   "metadata": {},
   "source": [
    "### 2B. Passing `base64` as `encoding_format`"
   ]
  },
  {
   "cell_type": "code",
   "execution_count": 14,
   "metadata": {},
   "outputs": [
    {
     "data": {
      "text/plain": [
       "{'object': 'list',\n",
       " 'data': [{'object': 'embedding',\n",
       "   'index': 0,\n",
       "   'embedding': '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'}],\n",
       " 'model': 'text-embedding-ada-002-v2',\n",
       " 'usage': {'prompt_tokens': 8, 'total_tokens': 8}}"
      ]
     },
     "execution_count": 14,
     "metadata": {},
     "output_type": "execute_result"
    }
   ],
   "source": [
    "base64_response = requests.post(\n",
    "    url='https://api.openai.com/v1/embeddings',\n",
    "    headers={\n",
    "        'Content-Type': 'application/json',\n",
    "        'Authorization': f'Bearer {api_key}',\n",
    "    },\n",
    "    json={\n",
    "        'input': 'The food was delicious and the waiter...',\n",
    "        'model': 'text-embedding-ada-002',\n",
    "        'encoding_format': 'base64',\n",
    "    }\n",
    ")\n",
    "base64_response.raise_for_status()\n",
    "base64_response.json()"
   ]
  },
  {
   "cell_type": "code",
   "execution_count": 15,
   "metadata": {},
   "outputs": [
    {
     "data": {
      "text/plain": [
       "'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'"
      ]
     },
     "execution_count": 15,
     "metadata": {},
     "output_type": "execute_result"
    }
   ],
   "source": [
    "base64_encoded = base64_response.json()['data'][0]['embedding']\n",
    "base64_encoded"
   ]
  },
  {
   "attachments": {},
   "cell_type": "markdown",
   "metadata": {},
   "source": [
    "#### Decoding base64 and comparing\n",
    "\n",
    "Now I'll decode it using the same technique as in [`openai.api_resources.embedding.Embedding.create`](https://github.com/openai/openai-python/blob/040f72efc461d747f04c32126ac4285d0f63b993/openai/api_resources/embedding.py#L15):"
   ]
  },
  {
   "cell_type": "code",
   "execution_count": 16,
   "metadata": {},
   "outputs": [
    {
     "data": {
      "text/plain": [
       "array([ 0.0023064255, -0.009327292 ,  0.015797347 , ..., -0.015327491 ,\n",
       "       -0.019378418 , -0.0028842222], dtype=float32)"
      ]
     },
     "execution_count": 16,
     "metadata": {},
     "output_type": "execute_result"
    }
   ],
   "source": [
    "buffer = base64.b64decode(base64_encoded)\n",
    "base64_embedding = np.frombuffer(buffer, dtype=np.float32)\n",
    "base64_embedding"
   ]
  },
  {
   "cell_type": "code",
   "execution_count": 17,
   "metadata": {},
   "outputs": [
    {
     "data": {
      "text/plain": [
       "True"
      ]
     },
     "execution_count": 17,
     "metadata": {},
     "output_type": "execute_result"
    }
   ],
   "source": [
    "(default_embedding == base64_embedding).all()"
   ]
  }
 ],
 "metadata": {
  "kernelspec": {
   "display_name": "python-eE5z94gO",
   "language": "python",
   "name": "python3"
  },
  "language_info": {
   "codemirror_mode": {
    "name": "ipython",
    "version": 3
   },
   "file_extension": ".py",
   "mimetype": "text/x-python",
   "name": "python",
   "nbconvert_exporter": "python",
   "pygments_lexer": "ipython3",
   "version": "3.11.2"
  },
  "orig_nbformat": 4,
  "vscode": {
   "interpreter": {
    "hash": "5b2a58d16238bcb4eedef241c99ff435fc9dedd495054dcbaabbe17632e3767b"
   }
  }
 },
 "nbformat": 4,
 "nbformat_minor": 2
}
