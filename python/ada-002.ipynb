{
 "cells": [
  {
   "attachments": {},
   "cell_type": "markdown",
   "metadata": {},
   "source": [
    "# Base64-encoded embedding from `text-embedding-ada-002`\n",
    "\n",
    "SPDX-License-Identifier: 0BSD\n",
    "\n",
    "This examines a second-generation Ada embedding in detail."
   ]
  },
  {
   "cell_type": "code",
   "execution_count": 1,
   "metadata": {},
   "outputs": [],
   "source": [
    "import collections\n",
    "import base64\n",
    "import json\n",
    "import re\n",
    "from typing import Iterable\n",
    "\n",
    "from cheap_repr import cheap_repr\n",
    "import numpy as np\n",
    "import openai\n",
    "from openai.embeddings_utils import get_embedding\n",
    "import requests\n",
    "import tabulate\n",
    "\n",
    "import keys\n",
    "import parsing"
   ]
  },
  {
   "cell_type": "code",
   "execution_count": 2,
   "metadata": {},
   "outputs": [],
   "source": [
    "np.set_printoptions(precision=10)"
   ]
  },
  {
   "cell_type": "code",
   "execution_count": 3,
   "metadata": {},
   "outputs": [],
   "source": [
    "api_key = openai.api_key = keys.get_api_key()"
   ]
  },
  {
   "attachments": {},
   "cell_type": "markdown",
   "metadata": {},
   "source": [
    "## 1. OpenAI Python library"
   ]
  },
  {
   "attachments": {},
   "cell_type": "markdown",
   "metadata": {},
   "source": [
    "### 1A. `openai.embeddings_utils.get_embedding`\n",
    "\n",
    "This is a higher-level interface to `openai.Embedding.create` (below)."
   ]
  },
  {
   "cell_type": "code",
   "execution_count": 4,
   "metadata": {},
   "outputs": [
    {
     "data": {
      "text/plain": [
       "'[0.002253931947052479, -0.00933318305760622, 0.015745779499411583, ..., -0.015288643538951874, -0.019364768639206886, -0.002796780550852418]'"
      ]
     },
     "execution_count": 4,
     "metadata": {},
     "output_type": "execute_result"
    }
   ],
   "source": [
    "lib_utils_embedding = get_embedding(\n",
    "    text='The food was delicious and the waiter...',\n",
    "    engine='text-embedding-ada-002',\n",
    ")\n",
    "cheap_repr(lib_utils_embedding)"
   ]
  },
  {
   "attachments": {},
   "cell_type": "markdown",
   "metadata": {},
   "source": [
    "Let's save those results, for comparison to Java:"
   ]
  },
  {
   "cell_type": "code",
   "execution_count": 5,
   "metadata": {},
   "outputs": [],
   "source": [
    "with open('python-embedding.json', mode='w', encoding='utf-8') as file:\n",
    "    json.dump(lib_utils_embedding, file, indent=4)"
   ]
  },
  {
   "attachments": {},
   "cell_type": "markdown",
   "metadata": {},
   "source": [
    "### 1B. `openai.Embedding.create`"
   ]
  },
  {
   "cell_type": "code",
   "execution_count": 6,
   "metadata": {},
   "outputs": [
    {
     "data": {
      "text/plain": [
       "\"{'object': 'list', 'data': [{'object': 'embedding', 'index': 0, 'embedding': [...]}], 'model': 'text-embedding-ada-002-v2', 'usage': {'prompt_tokens': 8, 'total_tokens': 8}}\""
      ]
     },
     "execution_count": 6,
     "metadata": {},
     "output_type": "execute_result"
    }
   ],
   "source": [
    "lib_response = openai.Embedding.create(\n",
    "    model=\"text-embedding-ada-002\",\n",
    "    input=\"The food was delicious and the waiter...\",\n",
    ")\n",
    "cheap_repr(lib_response)"
   ]
  },
  {
   "cell_type": "code",
   "execution_count": 7,
   "metadata": {},
   "outputs": [
    {
     "data": {
      "text/plain": [
       "'[0.002253931947052479, -0.00933318305760622, 0.015745779499411583, ..., -0.015288643538951874, -0.019364768639206886, -0.002796780550852418]'"
      ]
     },
     "execution_count": 7,
     "metadata": {},
     "output_type": "execute_result"
    }
   ],
   "source": [
    "lib_embedding = lib_response.data[0].embedding\n",
    "cheap_repr(lib_embedding)"
   ]
  },
  {
   "attachments": {},
   "cell_type": "markdown",
   "metadata": {},
   "source": [
    "Except on text where `get_embedding` does the extra work of converting newlines\n",
    "to spaces, or **when nondeterminism in the model gives different results for\n",
    "equivalent queries**, the results with `openai.embeddings_utils.get_embedding`\n",
    "and `openai.Embedding.create` will agree:"
   ]
  },
  {
   "cell_type": "code",
   "execution_count": 8,
   "metadata": {},
   "outputs": [
    {
     "data": {
      "text/plain": [
       "True"
      ]
     },
     "execution_count": 8,
     "metadata": {},
     "output_type": "execute_result"
    }
   ],
   "source": [
    "lib_utils_embedding == lib_embedding"
   ]
  },
  {
   "attachments": {},
   "cell_type": "markdown",
   "metadata": {},
   "source": [
    "## 2. POST requests to the OpenAI API endpoint"
   ]
  },
  {
   "attachments": {},
   "cell_type": "markdown",
   "metadata": {},
   "source": [
    "### 2A. No `encoding_format` (normal way)"
   ]
  },
  {
   "cell_type": "code",
   "execution_count": 9,
   "metadata": {},
   "outputs": [
    {
     "data": {
      "text/plain": [
       "array([ 0.002253932 , -0.009333183 ,  0.01574578  , ..., -0.015288644 ,\n",
       "       -0.019364769 , -0.0027967806], dtype=float32)"
      ]
     },
     "execution_count": 9,
     "metadata": {},
     "output_type": "execute_result"
    }
   ],
   "source": [
    "default_response = requests.post(\n",
    "    url='https://api.openai.com/v1/embeddings',\n",
    "    headers={\n",
    "        'Content-Type': 'application/json',\n",
    "        'Authorization': f'Bearer {api_key}',\n",
    "    },\n",
    "    json={\n",
    "        'input': 'The food was delicious and the waiter...',\n",
    "        'model': 'text-embedding-ada-002',\n",
    "    }\n",
    ")\n",
    "default_response.raise_for_status()\n",
    "default_encoded = default_response.json()['data'][0]['embedding']\n",
    "default_embedding = np.array(default_encoded, dtype=np.float32)\n",
    "default_embedding"
   ]
  },
  {
   "attachments": {},
   "cell_type": "markdown",
   "metadata": {},
   "source": [
    "#### Do the representations always have enough digits for float32?\n",
    "\n",
    "Since we are working with floating point, when we count digits to determine\n",
    "precision, we start with the leftmost *nonzero* digit. I will call such digits\n",
    "*mantissa digits*. A small minority of float32 values require 9 base-10\n",
    "mantissa digits to represent.\n",
    "\n",
    "Since decimal representations from the API endpoint omit *trailing* digits if\n",
    "not required for round-tripping, we should expect most values to show fewer\n",
    "than 9 mantissa digits. A glance at the output shows most of the numbers have\n",
    "8, as expected. But it is not clear, at a glance, that 9 digits are ever shown,\n",
    "since that is rarely needed. This shows that they are:"
   ]
  },
  {
   "cell_type": "code",
   "execution_count": 10,
   "metadata": {},
   "outputs": [],
   "source": [
    "coordinate_strings = parsing.extract_coordinate_strings(default_response.text)\n",
    "mantissa_length_groups = parsing.group_by_mantissa_length(coordinate_strings)"
   ]
  },
  {
   "cell_type": "code",
   "execution_count": 11,
   "metadata": {},
   "outputs": [
    {
     "data": {
      "text/html": [
       "<table>\n",
       "<thead>\n",
       "<tr><th style=\"text-align: right;\">  digits</th><th style=\"text-align: right;\">  count</th></tr>\n",
       "</thead>\n",
       "<tbody>\n",
       "<tr><td style=\"text-align: right;\">       5</td><td style=\"text-align: right;\">      1</td></tr>\n",
       "<tr><td style=\"text-align: right;\">       6</td><td style=\"text-align: right;\">     34</td></tr>\n",
       "<tr><td style=\"text-align: right;\">       7</td><td style=\"text-align: right;\">    425</td></tr>\n",
       "<tr><td style=\"text-align: right;\">       8</td><td style=\"text-align: right;\">   1051</td></tr>\n",
       "<tr><td style=\"text-align: right;\">       9</td><td style=\"text-align: right;\">     25</td></tr>\n",
       "</tbody>\n",
       "</table>"
      ],
      "text/plain": [
       "'<table>\\n<thead>\\n<tr><th style=\"text-align: right;\">  digits</th><th style=\"text-align: right;\">  count</th></tr>\\n</thead>\\n<tbody>\\n<tr><td style=\"text-align: right;\">       5</td><td style=\"text-align: right;\">      1</td></tr>\\n<tr><td style=\"text-align: right;\">       6</td><td style=\"text-align: right;\">     34</td></tr>\\n<tr><td style=\"text-align: right;\">       7</td><td style=\"text-align: right;\">    425</td></tr>\\n<tr><td style=\"text-align: right;\">       8</td><td style=\"text-align: right;\">   1051</td></tr>\\n<tr><td style=\"text-align: right;\">       9</td><td style=\"text-align: right;\">     25</td></tr>\\n</tbody>\\n</table>'"
      ]
     },
     "execution_count": 11,
     "metadata": {},
     "output_type": "execute_result"
    }
   ],
   "source": [
    "mantissa_length_table = [\n",
    "    (length, len(group))\n",
    "    for length, group in sorted(mantissa_length_groups.items())\n",
    "]\n",
    "tabulate.tabulate(\n",
    "    mantissa_length_table,\n",
    "    headers=('digits', 'count'),\n",
    "    tablefmt='html',\n",
    ")"
   ]
  },
  {
   "attachments": {},
   "cell_type": "markdown",
   "metadata": {},
   "source": [
    "A small fraction of the coordinates require 9 digits:"
   ]
  },
  {
   "cell_type": "code",
   "execution_count": 12,
   "metadata": {},
   "outputs": [
    {
     "name": "stdout",
     "output_type": "stream",
     "text": [
      "1.63%\n"
     ]
    }
   ],
   "source": [
    "ratio_that_need_9 = len(mantissa_length_groups[9]) / len(coordinate_strings)\n",
    "print(f'{ratio_that_need_9:.2%}')"
   ]
  },
  {
   "attachments": {},
   "cell_type": "markdown",
   "metadata": {},
   "source": [
    "Those coordinates are:"
   ]
  },
  {
   "cell_type": "code",
   "execution_count": 13,
   "metadata": {},
   "outputs": [
    {
     "data": {
      "text/plain": [
       "['-0.0117331445',\n",
       " '0.0131045515',\n",
       " '0.0114728315',\n",
       " '-0.0101331705',\n",
       " '0.0147045255',\n",
       " '0.0108506195',\n",
       " '-0.0112442635',\n",
       " '0.0147680165',\n",
       " '-0.0144759575',\n",
       " '-0.0153902285',\n",
       " '-0.0103299925',\n",
       " '0.0144759575',\n",
       " '0.0131680425',\n",
       " '0.0107553825',\n",
       " '-0.0144759575',\n",
       " '-0.000104363404',\n",
       " '-0.0107553825',\n",
       " '-0.0121585345',\n",
       " '0.0103617385',\n",
       " '-0.0152251525',\n",
       " '0.0112442635',\n",
       " '-0.0101331705',\n",
       " '0.0147045255',\n",
       " '0.0121902805',\n",
       " '-0.0140823135']"
      ]
     },
     "execution_count": 13,
     "metadata": {},
     "output_type": "execute_result"
    }
   ],
   "source": [
    "mantissa_length_groups[9]"
   ]
  },
  {
   "attachments": {},
   "cell_type": "markdown",
   "metadata": {},
   "source": [
    "### 2B. Passing `base64` as `encoding_format`"
   ]
  },
  {
   "cell_type": "code",
   "execution_count": 14,
   "metadata": {},
   "outputs": [
    {
     "data": {
      "text/plain": [
       "{'object': 'list',\n",
       " 'data': [{'object': 'embedding',\n",
       "   'index': 0,\n",
       "   'embedding': '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'}],\n",
       " 'model': 'text-embedding-ada-002-v2',\n",
       " 'usage': {'prompt_tokens': 8, 'total_tokens': 8}}"
      ]
     },
     "execution_count": 14,
     "metadata": {},
     "output_type": "execute_result"
    }
   ],
   "source": [
    "base64_response = requests.post(\n",
    "    url='https://api.openai.com/v1/embeddings',\n",
    "    headers={\n",
    "        'Content-Type': 'application/json',\n",
    "        'Authorization': f'Bearer {api_key}',\n",
    "    },\n",
    "    json={\n",
    "        'input': 'The food was delicious and the waiter...',\n",
    "        'model': 'text-embedding-ada-002',\n",
    "        'encoding_format': 'base64',\n",
    "    }\n",
    ")\n",
    "base64_response.raise_for_status()\n",
    "base64_response.json()"
   ]
  },
  {
   "cell_type": "code",
   "execution_count": 15,
   "metadata": {},
   "outputs": [
    {
     "data": {
      "text/plain": [
       "'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'"
      ]
     },
     "execution_count": 15,
     "metadata": {},
     "output_type": "execute_result"
    }
   ],
   "source": [
    "base64_encoded = base64_response.json()['data'][0]['embedding']\n",
    "base64_encoded"
   ]
  },
  {
   "attachments": {},
   "cell_type": "markdown",
   "metadata": {},
   "source": [
    "#### Decoding base64 and comparing\n",
    "\n",
    "Now I'll decode it using the same technique as in [`openai.api_resources.embedding.Embedding.create`](https://github.com/openai/openai-python/blob/040f72efc461d747f04c32126ac4285d0f63b993/openai/api_resources/embedding.py#L15):"
   ]
  },
  {
   "cell_type": "code",
   "execution_count": 16,
   "metadata": {},
   "outputs": [
    {
     "data": {
      "text/plain": [
       "array([ 0.002253932 , -0.009333183 ,  0.01574578  , ..., -0.015288644 ,\n",
       "       -0.019364769 , -0.0027967806], dtype=float32)"
      ]
     },
     "execution_count": 16,
     "metadata": {},
     "output_type": "execute_result"
    }
   ],
   "source": [
    "buffer = base64.b64decode(base64_encoded)\n",
    "base64_embedding = np.frombuffer(buffer, dtype=np.float32)\n",
    "base64_embedding"
   ]
  },
  {
   "cell_type": "code",
   "execution_count": 17,
   "metadata": {},
   "outputs": [
    {
     "data": {
      "text/plain": [
       "True"
      ]
     },
     "execution_count": 17,
     "metadata": {},
     "output_type": "execute_result"
    }
   ],
   "source": [
    "(default_embedding == base64_embedding).all()"
   ]
  }
 ],
 "metadata": {
  "kernelspec": {
   "display_name": "python-eE5z94gO",
   "language": "python",
   "name": "python3"
  },
  "language_info": {
   "codemirror_mode": {
    "name": "ipython",
    "version": 3
   },
   "file_extension": ".py",
   "mimetype": "text/x-python",
   "name": "python",
   "nbconvert_exporter": "python",
   "pygments_lexer": "ipython3",
   "version": "3.11.5"
  },
  "orig_nbformat": 4,
  "vscode": {
   "interpreter": {
    "hash": "5b2a58d16238bcb4eedef241c99ff435fc9dedd495054dcbaabbe17632e3767b"
   }
  }
 },
 "nbformat": 4,
 "nbformat_minor": 2
}
