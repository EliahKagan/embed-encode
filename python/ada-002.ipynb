{
 "cells": [
  {
   "attachments": {},
   "cell_type": "markdown",
   "metadata": {},
   "source": [
    "# Base64-encoded embedding from `text-embedding-ada-002`\n",
    "\n",
    "SPDX-License-Identifier: 0BSD\n",
    "\n",
    "This examines a second-generation Ada embedding in detail."
   ]
  },
  {
   "cell_type": "code",
   "execution_count": 1,
   "metadata": {},
   "outputs": [],
   "source": [
    "import collections\n",
    "import base64\n",
    "import json\n",
    "import re\n",
    "from typing import Iterable\n",
    "\n",
    "from cheap_repr import cheap_repr\n",
    "import numpy as np\n",
    "import openai\n",
    "from openai.embeddings_utils import get_embedding\n",
    "import requests\n",
    "import tabulate\n",
    "\n",
    "import keys\n",
    "import parsing"
   ]
  },
  {
   "cell_type": "code",
   "execution_count": 2,
   "metadata": {},
   "outputs": [],
   "source": [
    "np.set_printoptions(precision=10)"
   ]
  },
  {
   "cell_type": "code",
   "execution_count": 3,
   "metadata": {},
   "outputs": [],
   "source": [
    "api_key = openai.api_key = keys.get_api_key()"
   ]
  },
  {
   "attachments": {},
   "cell_type": "markdown",
   "metadata": {},
   "source": [
    "## 1. OpenAI Python library"
   ]
  },
  {
   "attachments": {},
   "cell_type": "markdown",
   "metadata": {},
   "source": [
    "### 1A. `openai.embeddings_utils.get_embedding`\n",
    "\n",
    "This is a higher-level interface to `openai.Embedding.create` (below)."
   ]
  },
  {
   "cell_type": "code",
   "execution_count": 4,
   "metadata": {},
   "outputs": [
    {
     "data": {
      "text/plain": [
       "'[0.002235695719718933, -0.009273056872189045, 0.0158150065690279, ..., -0.015357705764472485, -0.019397201016545296, -0.002861309563741088]'"
      ]
     },
     "execution_count": 4,
     "metadata": {},
     "output_type": "execute_result"
    }
   ],
   "source": [
    "lib_utils_embedding = get_embedding(\n",
    "    text='The food was delicious and the waiter...',\n",
    "    engine='text-embedding-ada-002',\n",
    ")\n",
    "cheap_repr(lib_utils_embedding)"
   ]
  },
  {
   "attachments": {},
   "cell_type": "markdown",
   "metadata": {},
   "source": [
    "Let's save those results, for comparison to Java:"
   ]
  },
  {
   "cell_type": "code",
   "execution_count": 5,
   "metadata": {},
   "outputs": [],
   "source": [
    "with open('python-embedding.json', mode='w', encoding='utf-8') as file:\n",
    "    json.dump(lib_utils_embedding, file, indent=4)"
   ]
  },
  {
   "attachments": {},
   "cell_type": "markdown",
   "metadata": {},
   "source": [
    "### 1B. `openai.Embedding.create`"
   ]
  },
  {
   "cell_type": "code",
   "execution_count": 6,
   "metadata": {},
   "outputs": [
    {
     "data": {
      "text/plain": [
       "\"{'object': 'list', 'data': [{'object': 'embedding', 'index': 0, 'embedding': [...]}], 'model': 'text-embedding-ada-002-v2', 'usage': {'prompt_tokens': 8, 'total_tokens': 8}}\""
      ]
     },
     "execution_count": 6,
     "metadata": {},
     "output_type": "execute_result"
    }
   ],
   "source": [
    "lib_response = openai.Embedding.create(\n",
    "    model=\"text-embedding-ada-002\",\n",
    "    input=\"The food was delicious and the waiter...\",\n",
    ")\n",
    "cheap_repr(lib_response)"
   ]
  },
  {
   "cell_type": "code",
   "execution_count": 7,
   "metadata": {},
   "outputs": [
    {
     "data": {
      "text/plain": [
       "'[0.002235695719718933, -0.009273056872189045, 0.0158150065690279, ..., -0.015357705764472485, -0.019397201016545296, -0.002861309563741088]'"
      ]
     },
     "execution_count": 7,
     "metadata": {},
     "output_type": "execute_result"
    }
   ],
   "source": [
    "lib_embedding = lib_response.data[0].embedding\n",
    "cheap_repr(lib_embedding)"
   ]
  },
  {
   "attachments": {},
   "cell_type": "markdown",
   "metadata": {},
   "source": [
    "Except on text where `get_embedding` does the extra work of converting newlines\n",
    "to spaces, or **when nondeterminism in the model gives different results for\n",
    "equivalent queries**, the results with `openai.embeddings_utils.get_embedding`\n",
    "and `openai.Embedding.create` will agree:"
   ]
  },
  {
   "cell_type": "code",
   "execution_count": 8,
   "metadata": {},
   "outputs": [
    {
     "data": {
      "text/plain": [
       "True"
      ]
     },
     "execution_count": 8,
     "metadata": {},
     "output_type": "execute_result"
    }
   ],
   "source": [
    "lib_utils_embedding == lib_embedding"
   ]
  },
  {
   "attachments": {},
   "cell_type": "markdown",
   "metadata": {},
   "source": [
    "## 2. POST requests to the OpenAI API endpoint"
   ]
  },
  {
   "attachments": {},
   "cell_type": "markdown",
   "metadata": {},
   "source": [
    "### 2A. No `encoding_format` (normal way)"
   ]
  },
  {
   "cell_type": "code",
   "execution_count": 9,
   "metadata": {},
   "outputs": [
    {
     "data": {
      "text/plain": [
       "array([ 0.0022356957, -0.009273057 ,  0.015815007 , ..., -0.015357706 ,\n",
       "       -0.019397201 , -0.0028613096], dtype=float32)"
      ]
     },
     "execution_count": 9,
     "metadata": {},
     "output_type": "execute_result"
    }
   ],
   "source": [
    "default_response = requests.post(\n",
    "    url='https://api.openai.com/v1/embeddings',\n",
    "    headers={\n",
    "        'Content-Type': 'application/json',\n",
    "        'Authorization': f'Bearer {api_key}',\n",
    "    },\n",
    "    json={\n",
    "        'input': 'The food was delicious and the waiter...',\n",
    "        'model': 'text-embedding-ada-002',\n",
    "    }\n",
    ")\n",
    "default_response.raise_for_status()\n",
    "default_encoded = default_response.json()['data'][0]['embedding']\n",
    "default_embedding = np.array(default_encoded, dtype=np.float32)\n",
    "default_embedding"
   ]
  },
  {
   "attachments": {},
   "cell_type": "markdown",
   "metadata": {},
   "source": [
    "#### Do the representations always have enough digits for float32?\n",
    "\n",
    "Since we are working with floating point, when we count digits to determine\n",
    "precision, we start with the leftmost *nonzero* digit. I will call such digits\n",
    "*mantissa digits*. A small minority of float32 values require 9 base-10\n",
    "mantissa digits to represent.\n",
    "\n",
    "Since decimal representations from the API endpoint omit *trailing* digits if\n",
    "not required for round-tripping, we should expect most values to show fewer\n",
    "than 9 mantissa digits. A glance at the output shows most of the numbers have\n",
    "8, as expected. But it is not clear, at a glance, that 9 digits are ever shown,\n",
    "since that is rarely needed. This shows that they are:"
   ]
  },
  {
   "cell_type": "code",
   "execution_count": 10,
   "metadata": {},
   "outputs": [],
   "source": [
    "coordinate_strings = parsing.extract_coordinate_strings(default_response.text)\n",
    "mantissa_length_groups = parsing.group_by_mantissa_length(coordinate_strings)"
   ]
  },
  {
   "cell_type": "code",
   "execution_count": 11,
   "metadata": {},
   "outputs": [
    {
     "data": {
      "text/html": [
       "<table>\n",
       "<thead>\n",
       "<tr><th style=\"text-align: right;\">  digits</th><th style=\"text-align: right;\">  count</th></tr>\n",
       "</thead>\n",
       "<tbody>\n",
       "<tr><td style=\"text-align: right;\">       5</td><td style=\"text-align: right;\">      5</td></tr>\n",
       "<tr><td style=\"text-align: right;\">       6</td><td style=\"text-align: right;\">     40</td></tr>\n",
       "<tr><td style=\"text-align: right;\">       7</td><td style=\"text-align: right;\">    444</td></tr>\n",
       "<tr><td style=\"text-align: right;\">       8</td><td style=\"text-align: right;\">   1021</td></tr>\n",
       "<tr><td style=\"text-align: right;\">       9</td><td style=\"text-align: right;\">     26</td></tr>\n",
       "</tbody>\n",
       "</table>"
      ],
      "text/plain": [
       "'<table>\\n<thead>\\n<tr><th style=\"text-align: right;\">  digits</th><th style=\"text-align: right;\">  count</th></tr>\\n</thead>\\n<tbody>\\n<tr><td style=\"text-align: right;\">       5</td><td style=\"text-align: right;\">      5</td></tr>\\n<tr><td style=\"text-align: right;\">       6</td><td style=\"text-align: right;\">     40</td></tr>\\n<tr><td style=\"text-align: right;\">       7</td><td style=\"text-align: right;\">    444</td></tr>\\n<tr><td style=\"text-align: right;\">       8</td><td style=\"text-align: right;\">   1021</td></tr>\\n<tr><td style=\"text-align: right;\">       9</td><td style=\"text-align: right;\">     26</td></tr>\\n</tbody>\\n</table>'"
      ]
     },
     "execution_count": 11,
     "metadata": {},
     "output_type": "execute_result"
    }
   ],
   "source": [
    "mantissa_length_table = [\n",
    "    (length, len(group))\n",
    "    for length, group in sorted(mantissa_length_groups.items())\n",
    "]\n",
    "tabulate.tabulate(\n",
    "    mantissa_length_table,\n",
    "    headers=('digits', 'count'),\n",
    "    tablefmt='html',\n",
    ")"
   ]
  },
  {
   "attachments": {},
   "cell_type": "markdown",
   "metadata": {},
   "source": [
    "A small fraction of the coordinates require 9 digits:"
   ]
  },
  {
   "cell_type": "code",
   "execution_count": 12,
   "metadata": {},
   "outputs": [
    {
     "name": "stdout",
     "output_type": "stream",
     "text": [
      "1.69%\n"
     ]
    }
   ],
   "source": [
    "ratio_that_need_9 = len(mantissa_length_groups[9]) / len(coordinate_strings)\n",
    "print(f'{ratio_that_need_9:.2%}')"
   ]
  },
  {
   "attachments": {},
   "cell_type": "markdown",
   "metadata": {},
   "source": [
    "Those coordinates are:"
   ]
  },
  {
   "cell_type": "code",
   "execution_count": 13,
   "metadata": {},
   "outputs": [
    {
     "data": {
      "text/plain": [
       "['-0.0124868695',\n",
       " '0.0141255325',\n",
       " '0.0147352675',\n",
       " '-0.0109879365',\n",
       " '0.0144558055',\n",
       " '-0.0130966045',\n",
       " '-0.0128171425',\n",
       " '0.0111276675',\n",
       " '-0.0148749985',\n",
       " '-0.0145955365',\n",
       " '-0.0110578025',\n",
       " '0.0119469995',\n",
       " '0.0144558055',\n",
       " '0.0124170035',\n",
       " '-0.0114071295',\n",
       " '0.0139858015',\n",
       " '-0.0152052725',\n",
       " '-0.0110578025',\n",
       " '-0.0132363355',\n",
       " '-0.0150655415',\n",
       " '0.0103782015',\n",
       " '-0.0100987395',\n",
       " '-0.0144558055',\n",
       " '-0.0137063395',\n",
       " '-0.0139858015',\n",
       " '0.0145955365']"
      ]
     },
     "execution_count": 13,
     "metadata": {},
     "output_type": "execute_result"
    }
   ],
   "source": [
    "mantissa_length_groups[9]"
   ]
  },
  {
   "attachments": {},
   "cell_type": "markdown",
   "metadata": {},
   "source": [
    "### 2B. Passing `base64` as `encoding_format`"
   ]
  },
  {
   "cell_type": "code",
   "execution_count": 14,
   "metadata": {},
   "outputs": [
    {
     "data": {
      "text/plain": [
       "{'object': 'list',\n",
       " 'data': [{'object': 'embedding',\n",
       "   'index': 0,\n",
       "   'embedding': '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'}],\n",
       " 'model': 'text-embedding-ada-002-v2',\n",
       " 'usage': {'prompt_tokens': 8, 'total_tokens': 8}}"
      ]
     },
     "execution_count": 14,
     "metadata": {},
     "output_type": "execute_result"
    }
   ],
   "source": [
    "base64_response = requests.post(\n",
    "    url='https://api.openai.com/v1/embeddings',\n",
    "    headers={\n",
    "        'Content-Type': 'application/json',\n",
    "        'Authorization': f'Bearer {api_key}',\n",
    "    },\n",
    "    json={\n",
    "        'input': 'The food was delicious and the waiter...',\n",
    "        'model': 'text-embedding-ada-002',\n",
    "        'encoding_format': 'base64',\n",
    "    }\n",
    ")\n",
    "base64_response.raise_for_status()\n",
    "base64_response.json()"
   ]
  },
  {
   "cell_type": "code",
   "execution_count": 15,
   "metadata": {},
   "outputs": [
    {
     "data": {
      "text/plain": [
       "'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'"
      ]
     },
     "execution_count": 15,
     "metadata": {},
     "output_type": "execute_result"
    }
   ],
   "source": [
    "base64_encoded = base64_response.json()['data'][0]['embedding']\n",
    "base64_encoded"
   ]
  },
  {
   "attachments": {},
   "cell_type": "markdown",
   "metadata": {},
   "source": [
    "#### Decoding base64 and comparing\n",
    "\n",
    "Now I'll decode it using the same technique as in [`openai.api_resources.embedding.Embedding.create`](https://github.com/openai/openai-python/blob/040f72efc461d747f04c32126ac4285d0f63b993/openai/api_resources/embedding.py#L15):"
   ]
  },
  {
   "cell_type": "code",
   "execution_count": 16,
   "metadata": {},
   "outputs": [
    {
     "data": {
      "text/plain": [
       "array([ 0.0022356957, -0.009273057 ,  0.015815007 , ..., -0.015357706 ,\n",
       "       -0.019397201 , -0.0028613096], dtype=float32)"
      ]
     },
     "execution_count": 16,
     "metadata": {},
     "output_type": "execute_result"
    }
   ],
   "source": [
    "buffer = base64.b64decode(base64_encoded)\n",
    "base64_embedding = np.frombuffer(buffer, dtype=np.float32)\n",
    "base64_embedding"
   ]
  },
  {
   "cell_type": "code",
   "execution_count": 17,
   "metadata": {},
   "outputs": [
    {
     "data": {
      "text/plain": [
       "True"
      ]
     },
     "execution_count": 17,
     "metadata": {},
     "output_type": "execute_result"
    }
   ],
   "source": [
    "(default_embedding == base64_embedding).all()"
   ]
  }
 ],
 "metadata": {
  "kernelspec": {
   "display_name": "python-eE5z94gO",
   "language": "python",
   "name": "python3"
  },
  "language_info": {
   "codemirror_mode": {
    "name": "ipython",
    "version": 3
   },
   "file_extension": ".py",
   "mimetype": "text/x-python",
   "name": "python",
   "nbconvert_exporter": "python",
   "pygments_lexer": "ipython3",
   "version": "3.11.2"
  },
  "orig_nbformat": 4,
  "vscode": {
   "interpreter": {
    "hash": "5b2a58d16238bcb4eedef241c99ff435fc9dedd495054dcbaabbe17632e3767b"
   }
  }
 },
 "nbformat": 4,
 "nbformat_minor": 2
}
